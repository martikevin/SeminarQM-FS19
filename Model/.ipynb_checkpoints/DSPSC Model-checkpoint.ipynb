{
 "cells": [
  {
   "cell_type": "code",
   "execution_count": 29,
   "metadata": {},
   "outputs": [],
   "source": [
    "import gurobipy as gb\n",
    "import pandas as pd\n",
    "    \n",
    "    \n",
    "#sets:\n",
    "duties = []             #d element D\n",
    "bus_trips = []          #t element Tau\n",
    "car_travels = []        #i element C\n",
    "car_travel_departures = []           #i element Ć\n",
    "car_travel_arrivals = []             #j element Ĉ\n",
    "car_departure_times_from_depot = []  #o element O\n",
    "car_matches = []        #set of all possible car matches that are active at time o element O\n",
    "\n",
    "\n",
    "#parameters\n",
    "duty_cost = []      # c_d\n",
    "A = {}              # binary matrix A with a_t_d as index\n",
    "G = {}              # binary matrix G with g_i_d as index\n",
    "H = {}              # binary matrix H where h_i_j indicates if two car travels can be matched as one round trip\n",
    "Q = 1               # available staff cars at depot \n",
    "M = 5               # Big number can be set to number of seats of staff car\n",
    "depot_node_id= 0    # Id of depot Node\n",
    "\n",
    "\n",
    "#Adaptable parameters\n",
    "beta = 100           # penalty coefficient for uncovered trips\n"
   ]
  },
  {
   "cell_type": "markdown",
   "metadata": {},
   "source": [
    "# Loading data"
   ]
  },
  {
   "cell_type": "code",
   "execution_count": 30,
   "metadata": {},
   "outputs": [],
   "source": [
    "bus_trips_df = pd.read_csv(\"Instance1\\Trips.csv\", \";\")\n",
    "bus_trips_df.set_index(\"TripID\", inplace = True)\n",
    "#Load bus_trips\n",
    "bus_trips = bus_trips_df.index.values.tolist()\n",
    "duties_df = pd.read_csv(\"Instance1\\Duties.csv\", \";\")\n",
    "duties_df.set_index(\"DutyID\", inplace = True)\n",
    "#load duties\n",
    "duties = duties_df.index.values.tolist()\n",
    "#load duty costs as dictionary\n",
    "duty_cost = duties_df[[\"Paid time or cost of duty\"]].to_dict()[\"Paid time or cost of duty\"]\n",
    "\n",
    "#Next Job create A as a dictionary \n",
    "car_travels_df = pd.read_csv(\"Instance1\\CarTravels.csv\", \";\")\n",
    "#load car travels\n",
    "car_travels = car_travels_df[\"CarTravelID\"].values.tolist()\n",
    "staff_car_df = pd.read_csv(\"Instance1\\StaffCar.csv\", \";\")\n",
    "#load available staff cars\n",
    "Q = staff_car_df[\"Number of staff cars\"].values.tolist()[0]\n",
    "#load depot node id\n",
    "depot_node_id = staff_car_df[\"Staff car depot nodeID\"].values.tolist()[0]\n",
    "#load departing car travels (from depot)\n",
    "idx =car_travels_df[\"Departure nodeID\"]==depot_node_id\n",
    "car_travel_departures = car_travels_df.loc[idx][\"CarTravelID\"].values.tolist()\n",
    "#load arriving car travels (to depot)\n",
    "car_travel_arrivals = car_travels_df.loc[car_travels_df[\"Arrival nodeID\"]==depot_node_id][\"CarTravelID\"].values.tolist()\n",
    "#Load set of all departure times of a staff car from the depot\n",
    "car_travel_departure_times_from_depot = car_travels_df.loc[idx][\"Departure time\"].values.tolist()"
   ]
  },
  {
   "cell_type": "markdown",
   "metadata": {},
   "source": [
    "### creating matricies"
   ]
  },
  {
   "cell_type": "code",
   "execution_count": 35,
   "metadata": {},
   "outputs": [
    {
     "data": {
      "text/html": [
       "<div>\n",
       "<style scoped>\n",
       "    .dataframe tbody tr th:only-of-type {\n",
       "        vertical-align: middle;\n",
       "    }\n",
       "\n",
       "    .dataframe tbody tr th {\n",
       "        vertical-align: top;\n",
       "    }\n",
       "\n",
       "    .dataframe thead th {\n",
       "        text-align: right;\n",
       "    }\n",
       "</style>\n",
       "<table border=\"1\" class=\"dataframe\">\n",
       "  <thead>\n",
       "    <tr style=\"text-align: right;\">\n",
       "      <th></th>\n",
       "      <th>Paid time or cost of duty</th>\n",
       "      <th>Trips</th>\n",
       "      <th>Car travels</th>\n",
       "    </tr>\n",
       "    <tr>\n",
       "      <th>DutyID</th>\n",
       "      <th></th>\n",
       "      <th></th>\n",
       "      <th></th>\n",
       "    </tr>\n",
       "  </thead>\n",
       "  <tbody>\n",
       "    <tr>\n",
       "      <th>1</th>\n",
       "      <td>295</td>\n",
       "      <td>1, 4,</td>\n",
       "      <td>1, 2, 3,</td>\n",
       "    </tr>\n",
       "    <tr>\n",
       "      <th>2</th>\n",
       "      <td>376</td>\n",
       "      <td>1, 4, 5,</td>\n",
       "      <td>1, 2, 6,</td>\n",
       "    </tr>\n",
       "    <tr>\n",
       "      <th>3</th>\n",
       "      <td>370</td>\n",
       "      <td>1, 2, 3, 5,</td>\n",
       "      <td>7, 8, 6,</td>\n",
       "    </tr>\n",
       "    <tr>\n",
       "      <th>4</th>\n",
       "      <td>430</td>\n",
       "      <td>1, 2, 3, 5, 6,</td>\n",
       "      <td>7, 8, 12,</td>\n",
       "    </tr>\n",
       "    <tr>\n",
       "      <th>5</th>\n",
       "      <td>462</td>\n",
       "      <td>1, 2, 3, 5, 10,</td>\n",
       "      <td>7, 8, 6, 16,</td>\n",
       "    </tr>\n",
       "  </tbody>\n",
       "</table>\n",
       "</div>"
      ],
      "text/plain": [
       "        Paid time or cost of duty             Trips    Car travels\n",
       "DutyID                                                            \n",
       "1                             295            1, 4,       1, 2, 3, \n",
       "2                             376         1, 4, 5,       1, 2, 6, \n",
       "3                             370      1, 2, 3, 5,       7, 8, 6, \n",
       "4                             430   1, 2, 3, 5, 6,      7, 8, 12, \n",
       "5                             462  1, 2, 3, 5, 10,   7, 8, 6, 16, "
      ]
     },
     "execution_count": 35,
     "metadata": {},
     "output_type": "execute_result"
    }
   ],
   "source": [
    "A = {}\n",
    "for key in duties:\n",
    "    for trip in trips:\n",
    "        \n",
    "\n",
    "duties_df.head()\n"
   ]
  },
  {
   "cell_type": "markdown",
   "metadata": {},
   "source": [
    "# Constructing Model"
   ]
  },
  {
   "cell_type": "code",
   "execution_count": 25,
   "metadata": {},
   "outputs": [
    {
     "ename": "NameError",
     "evalue": "name 'quicksum' is not defined",
     "output_type": "error",
     "traceback": [
      "\u001b[1;31m---------------------------------------------------------------------------\u001b[0m",
      "\u001b[1;31mNameError\u001b[0m                                 Traceback (most recent call last)",
      "\u001b[1;32m<ipython-input-25-d38200ffd867>\u001b[0m in \u001b[0;36m<module>\u001b[1;34m()\u001b[0m\n\u001b[0;32m     18\u001b[0m \u001b[1;33m\u001b[0m\u001b[0m\n\u001b[0;32m     19\u001b[0m \u001b[1;31m#(3)\u001b[0m\u001b[1;33m\u001b[0m\u001b[1;33m\u001b[0m\u001b[0m\n\u001b[1;32m---> 20\u001b[1;33m \u001b[0mm\u001b[0m\u001b[1;33m.\u001b[0m\u001b[0maddConstrs\u001b[0m\u001b[1;33m(\u001b[0m\u001b[0mquicksum\u001b[0m\u001b[1;33m(\u001b[0m\u001b[0mA\u001b[0m\u001b[1;33m[\u001b[0m\u001b[0mbus_trip\u001b[0m\u001b[1;33m,\u001b[0m\u001b[0mduty\u001b[0m\u001b[1;33m]\u001b[0m\u001b[1;33m*\u001b[0m\u001b[0mx_d\u001b[0m\u001b[1;33m[\u001b[0m\u001b[0mduty\u001b[0m\u001b[1;33m]\u001b[0m \u001b[1;32mfor\u001b[0m \u001b[0mduty\u001b[0m \u001b[1;32min\u001b[0m \u001b[0mduties\u001b[0m\u001b[1;33m)\u001b[0m \u001b[1;33m+\u001b[0m \u001b[0my_t\u001b[0m\u001b[1;33m[\u001b[0m\u001b[0mbus_trip\u001b[0m\u001b[1;33m]\u001b[0m \u001b[1;33m>=\u001b[0m \u001b[1;36m1\u001b[0m \u001b[1;32mfor\u001b[0m \u001b[0mbus_trip\u001b[0m \u001b[1;32min\u001b[0m \u001b[0mbus_trips\u001b[0m\u001b[1;33m)\u001b[0m\u001b[1;33m\u001b[0m\u001b[0m\n\u001b[0m\u001b[0;32m     21\u001b[0m \u001b[1;33m\u001b[0m\u001b[0m\n\u001b[0;32m     22\u001b[0m \u001b[1;31m#(4)\u001b[0m\u001b[1;33m\u001b[0m\u001b[1;33m\u001b[0m\u001b[0m\n",
      "\u001b[1;32mmodel.pxi\u001b[0m in \u001b[0;36mgurobipy.Model.addConstrs\u001b[1;34m()\u001b[0m\n",
      "\u001b[1;32m<ipython-input-25-d38200ffd867>\u001b[0m in \u001b[0;36m<genexpr>\u001b[1;34m(.0)\u001b[0m\n\u001b[0;32m     18\u001b[0m \u001b[1;33m\u001b[0m\u001b[0m\n\u001b[0;32m     19\u001b[0m \u001b[1;31m#(3)\u001b[0m\u001b[1;33m\u001b[0m\u001b[1;33m\u001b[0m\u001b[0m\n\u001b[1;32m---> 20\u001b[1;33m \u001b[0mm\u001b[0m\u001b[1;33m.\u001b[0m\u001b[0maddConstrs\u001b[0m\u001b[1;33m(\u001b[0m\u001b[0mquicksum\u001b[0m\u001b[1;33m(\u001b[0m\u001b[0mA\u001b[0m\u001b[1;33m[\u001b[0m\u001b[0mbus_trip\u001b[0m\u001b[1;33m,\u001b[0m\u001b[0mduty\u001b[0m\u001b[1;33m]\u001b[0m\u001b[1;33m*\u001b[0m\u001b[0mx_d\u001b[0m\u001b[1;33m[\u001b[0m\u001b[0mduty\u001b[0m\u001b[1;33m]\u001b[0m \u001b[1;32mfor\u001b[0m \u001b[0mduty\u001b[0m \u001b[1;32min\u001b[0m \u001b[0mduties\u001b[0m\u001b[1;33m)\u001b[0m \u001b[1;33m+\u001b[0m \u001b[0my_t\u001b[0m\u001b[1;33m[\u001b[0m\u001b[0mbus_trip\u001b[0m\u001b[1;33m]\u001b[0m \u001b[1;33m>=\u001b[0m \u001b[1;36m1\u001b[0m \u001b[1;32mfor\u001b[0m \u001b[0mbus_trip\u001b[0m \u001b[1;32min\u001b[0m \u001b[0mbus_trips\u001b[0m\u001b[1;33m)\u001b[0m\u001b[1;33m\u001b[0m\u001b[0m\n\u001b[0m\u001b[0;32m     21\u001b[0m \u001b[1;33m\u001b[0m\u001b[0m\n\u001b[0;32m     22\u001b[0m \u001b[1;31m#(4)\u001b[0m\u001b[1;33m\u001b[0m\u001b[1;33m\u001b[0m\u001b[0m\n",
      "\u001b[1;31mNameError\u001b[0m: name 'quicksum' is not defined"
     ]
    }
   ],
   "source": [
    "#construct model\n",
    "m = gb.Model(\"DSPSC Model\")\n",
    "\n",
    "#create variables\n",
    "x_d = m.addVars(duties, vtype=gb.GRB.BINARY)\n",
    "y_t = m.addVars(bus_trips, vtype=gb.GRB.BINARY)\n",
    "z_i = m.addVars(car_travels, vtype=gb.GRB.BINARY)\n",
    "s_i_j = m.addVars(car_travel_departures, car_travel_arrivals, vtype=gb.GRB.BINARY)\n",
    "\n",
    "\n",
    "#(2)set Objective\n",
    "obj = (gb.quicksum(duty_cost[duty] * x_d[duty] for duty in duties) \n",
    "       + beta*gb.quicksum(y_t[bus_trip] for bus_trip in bus_trips))\n",
    "\n",
    "m.setObjective(obj,gb.GRB.MINIMIZE)\n",
    "\n",
    "#set Constraints\n",
    "\n",
    "#(3)\n",
    "m.addConstrs(quicksum(A[bus_trip,duty]*x_d[duty] for duty in duties) + y_t[bus_trip] >= 1 for bus_trip in bus_trips)\n",
    "\n",
    "#(4)\n",
    "m.addConstrs(quicksum(G[car_travel,duty]*x_d[duty] for duty in duties)\n",
    "            <= z_i[car_travel]*M for car_travel in car_travels)\n",
    "\n",
    "#(5)\n",
    "m.addConstrs(quicksum(G[car_travel,duty]*x_d[duty] for duty in duties)\n",
    "            >= z_i[car_travel] for car_travel in car_travels)\n",
    "\n",
    "#(6)\n",
    "m.addConstrs(quicksum(H[car_travel_depart,car_travel_arriv] *s_i_j[car_travel_depart,car_travel_arriv] \n",
    "                      for car_travel_arriv in car_travel_arrivals) ==  z_i[car_travel_depart] \n",
    "                      for car_travel_depart in car_travel_departures)\n",
    "\n",
    "#(7)\n",
    "m.addConstrs(quicksum(H[car_travel_depart,car_travel_arriv] *s_i_j[car_travel_depart,car_travel_arriv] \n",
    "                      for car_travel_depart in car_travel_departures) ==  z_i[car_travel_depart] \n",
    "                      for car_travel_arriv in car_travel_arrivals)\n",
    "\n",
    "#(8)"
   ]
  },
  {
   "cell_type": "code",
   "execution_count": null,
   "metadata": {},
   "outputs": [],
   "source": []
  }
 ],
 "metadata": {
  "kernelspec": {
   "display_name": "Python 3",
   "language": "python",
   "name": "python3"
  },
  "language_info": {
   "codemirror_mode": {
    "name": "ipython",
    "version": 3
   },
   "file_extension": ".py",
   "mimetype": "text/x-python",
   "name": "python",
   "nbconvert_exporter": "python",
   "pygments_lexer": "ipython3",
   "version": "3.6.5"
  }
 },
 "nbformat": 4,
 "nbformat_minor": 2
}
