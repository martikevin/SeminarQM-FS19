{
 "cells": [
  {
   "cell_type": "code",
   "execution_count": 5,
   "metadata": {},
   "outputs": [],
   "source": [
    "import gurobipy as gb\n",
    "import csv\n",
    "\n",
    "class DSPSC(gb.Model):\n",
    "    #sets:\n",
    "    duties = [1,2,3,4]             #d element D\n",
    "    bus_trips = []          #t element Tau\n",
    "    car_travels = []        #i element C\n",
    "    car_travel_departures = [] #i element Ć\n",
    "    car_travel_arrivals = []  #j element Ĉ\n",
    "    depart_times_departures = [] #o element O\n",
    "\n",
    "    #parameters\n",
    "    duty_cost = []      # c_d\n",
    "    A = {}              # binary matrix A with a_t_d as index\n",
    "    G = {}              # binary matrix G with g_i_d as index\n",
    "    H = {}              # binary matrix H where h_i_j indicates if two \n",
    "                        # car travels can be matched as one round trip\n",
    "    Q = 0               # available staff cars at depot \n",
    "    beta = 0            # penalty coefficient for uncovered trips\n",
    "    M = 0               # Big number can be set to number of seats of staff car\n",
    "    \n",
    "    #variables\n",
    "    \n",
    "    \n",
    "    #override\n",
    "    def __init__(self, name):\n",
    "        super(DSPSC,self).__init__(name)\n",
    "        #we need a load function that reads all the data\n",
    "        \n",
    "        self.add_variables()\n",
    "    \n",
    "    def add_variables():\n",
    "        self.x = addVars(duties, vtype=gb.GRB.BINARY)\n",
    "        self.y = addVars(bus_trips, vtype=gb.GRB.BINARY)\n",
    "        self.z = addVars(car_travels, vtype=gb.GRB.BINARY)\n",
    "        self.s = addVars(car_travel_departures, car_travel_arrivals, vtype=gb.GRB.BINARY)\n",
    "\n",
    "\n",
    "\n",
    "    \n",
    "    \n",
    "    \n",
    "    \n",
    "    \n",
    "\n",
    "\n"
   ]
  },
  {
   "cell_type": "code",
   "execution_count": 4,
   "metadata": {},
   "outputs": [
    {
     "name": "stdout",
     "output_type": "stream",
     "text": [
      "Academic license - for non-commercial use only\n"
     ]
    },
    {
     "ename": "TypeError",
     "evalue": "add_variables() takes 0 positional arguments but 1 was given",
     "output_type": "error",
     "traceback": [
      "\u001b[1;31m---------------------------------------------------------------------------\u001b[0m",
      "\u001b[1;31mTypeError\u001b[0m                                 Traceback (most recent call last)",
      "\u001b[1;32m<ipython-input-4-defba9a23322>\u001b[0m in \u001b[0;36m<module>\u001b[1;34m()\u001b[0m\n\u001b[1;32m----> 1\u001b[1;33m \u001b[0mm1\u001b[0m \u001b[1;33m=\u001b[0m \u001b[0mDSPSC\u001b[0m\u001b[1;33m(\u001b[0m\u001b[1;34m\"model1\"\u001b[0m\u001b[1;33m)\u001b[0m\u001b[1;33m\u001b[0m\u001b[0m\n\u001b[0m\u001b[0;32m      2\u001b[0m \u001b[0mm1\u001b[0m\u001b[1;33m.\u001b[0m\u001b[0mx\u001b[0m\u001b[1;33m\u001b[0m\u001b[0m\n",
      "\u001b[1;32m<ipython-input-3-ec1c5081432d>\u001b[0m in \u001b[0;36m__init__\u001b[1;34m(self, name)\u001b[0m\n\u001b[0;32m     29\u001b[0m         \u001b[1;31m#we need a load function that reads all the data\u001b[0m\u001b[1;33m\u001b[0m\u001b[1;33m\u001b[0m\u001b[0m\n\u001b[0;32m     30\u001b[0m \u001b[1;33m\u001b[0m\u001b[0m\n\u001b[1;32m---> 31\u001b[1;33m         \u001b[0mself\u001b[0m\u001b[1;33m.\u001b[0m\u001b[0madd_variables\u001b[0m\u001b[1;33m(\u001b[0m\u001b[1;33m)\u001b[0m\u001b[1;33m\u001b[0m\u001b[0m\n\u001b[0m\u001b[0;32m     32\u001b[0m \u001b[1;33m\u001b[0m\u001b[0m\n\u001b[0;32m     33\u001b[0m     \u001b[1;32mdef\u001b[0m \u001b[0madd_variables\u001b[0m\u001b[1;33m(\u001b[0m\u001b[1;33m)\u001b[0m\u001b[1;33m:\u001b[0m\u001b[1;33m\u001b[0m\u001b[0m\n",
      "\u001b[1;31mTypeError\u001b[0m: add_variables() takes 0 positional arguments but 1 was given"
     ]
    }
   ],
   "source": [
    "m1 = DSPSC(\"model1\")\n",
    "m1.x"
   ]
  },
  {
   "cell_type": "code",
   "execution_count": null,
   "metadata": {},
   "outputs": [],
   "source": [
    "    \n",
    "\n",
    "\n",
    "\n",
    "\n",
    "\n",
    "\n",
    "\n",
    "\n",
    "def load_file (file_name):\n",
    "    with open(file_name, \"r\") as csv_file:\n",
    "        csv_reader = csv.reader(csv_file)\n",
    "        return csv_reader\n",
    "    \n",
    "load_file(\"Duties.csv\")\n",
    "\n"
   ]
  }
 ],
 "metadata": {
  "kernelspec": {
   "display_name": "Python 3",
   "language": "python",
   "name": "python3"
  },
  "language_info": {
   "codemirror_mode": {
    "name": "ipython",
    "version": 3
   },
   "file_extension": ".py",
   "mimetype": "text/x-python",
   "name": "python",
   "nbconvert_exporter": "python",
   "pygments_lexer": "ipython3",
   "version": "3.6.5"
  }
 },
 "nbformat": 4,
 "nbformat_minor": 2
}
