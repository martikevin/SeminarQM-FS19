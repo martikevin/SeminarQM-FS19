{
 "cells": [
  {
   "cell_type": "code",
   "execution_count": 1,
   "metadata": {},
   "outputs": [],
   "source": [
    "import gurobipy as gb\n",
    "import pandas as pd\n",
    "\n",
    "\n",
    "    \n",
    "\n",
    "#define sets:\n",
    "duties = []             #d element D\n",
    "bus_trips = []          #t element Tau\n",
    "car_travels = []        #i element C\n",
    "car_travel_departures = [] #i element Ć\n",
    "car_travel_arrivals = []  #j element Ĉ\n",
    "depart_times_departures = [] #o element O\n",
    "\n",
    "#define parameters\n",
    "duty_cost = []      # c_d\n",
    "A = {}              # binary matrix A with a_t_d as index\n",
    "G = {}              # binary matrix G with g_i_d as index\n",
    "H = {}              # binary matrix H where h_i_j indicates if two \n",
    "                    # car travels can be matched as one round trip\n",
    "Q = 1               # available staff cars at depot \n",
    "beta = 1            # penalty coefficient for uncovered trips\n",
    "M = 5               # Big number can be set to number of seats of staff car\n",
    "depot_node_id\n",
    "\n",
    "\n",
    "\n",
    "\n",
    "\n",
    "    \n",
    "\n",
    "\n"
   ]
  },
  {
   "cell_type": "markdown",
   "metadata": {},
   "source": [
    "# Loading data"
   ]
  },
  {
   "cell_type": "code",
   "execution_count": 51,
   "metadata": {},
   "outputs": [
    {
     "data": {
      "text/html": [
       "<div>\n",
       "<style scoped>\n",
       "    .dataframe tbody tr th:only-of-type {\n",
       "        vertical-align: middle;\n",
       "    }\n",
       "\n",
       "    .dataframe tbody tr th {\n",
       "        vertical-align: top;\n",
       "    }\n",
       "\n",
       "    .dataframe thead th {\n",
       "        text-align: right;\n",
       "    }\n",
       "</style>\n",
       "<table border=\"1\" class=\"dataframe\">\n",
       "  <thead>\n",
       "    <tr style=\"text-align: right;\">\n",
       "      <th></th>\n",
       "      <th>CarTravelID</th>\n",
       "      <th>Departure nodeID</th>\n",
       "      <th>Arrival nodeID</th>\n",
       "      <th>Departure time</th>\n",
       "      <th>Arrival time</th>\n",
       "    </tr>\n",
       "  </thead>\n",
       "  <tbody>\n",
       "    <tr>\n",
       "      <th>0</th>\n",
       "      <td>1</td>\n",
       "      <td>7514153</td>\n",
       "      <td>7515201</td>\n",
       "      <td>445</td>\n",
       "      <td>476</td>\n",
       "    </tr>\n",
       "    <tr>\n",
       "      <th>1</th>\n",
       "      <td>2</td>\n",
       "      <td>7515201</td>\n",
       "      <td>7514153</td>\n",
       "      <td>531</td>\n",
       "      <td>565</td>\n",
       "    </tr>\n",
       "    <tr>\n",
       "      <th>2</th>\n",
       "      <td>3</td>\n",
       "      <td>7514250</td>\n",
       "      <td>7515201</td>\n",
       "      <td>670</td>\n",
       "      <td>684</td>\n",
       "    </tr>\n",
       "    <tr>\n",
       "      <th>3</th>\n",
       "      <td>6</td>\n",
       "      <td>7514153</td>\n",
       "      <td>7515201</td>\n",
       "      <td>734</td>\n",
       "      <td>765</td>\n",
       "    </tr>\n",
       "    <tr>\n",
       "      <th>4</th>\n",
       "      <td>7</td>\n",
       "      <td>7514153</td>\n",
       "      <td>7515201</td>\n",
       "      <td>572</td>\n",
       "      <td>603</td>\n",
       "    </tr>\n",
       "  </tbody>\n",
       "</table>\n",
       "</div>"
      ],
      "text/plain": [
       "   CarTravelID  Departure nodeID  Arrival nodeID  Departure time  Arrival time\n",
       "0            1           7514153         7515201             445           476\n",
       "1            2           7515201         7514153             531           565\n",
       "2            3           7514250         7515201             670           684\n",
       "3            6           7514153         7515201             734           765\n",
       "4            7           7514153         7515201             572           603"
      ]
     },
     "execution_count": 51,
     "metadata": {},
     "output_type": "execute_result"
    }
   ],
   "source": [
    "bus_trips_df = pd.read_csv(\"Instance1\\Trips.csv\", \";\")\n",
    "#Load bus_trips\n",
    "bus_trips = bus_trips_df[\"TripID\"].values.tolist()\n",
    "duties_df = pd.read_csv(\"Instance1\\Duties.csv\", \";\")\n",
    "#load duties\n",
    "duties = duties_df[\"DutyID\"].values.tolist()\n",
    "#load duty costs\n",
    "duty_cost = duties_df[\"Paid time or cost of duty\"].values.tolist()\n",
    "car_travels_df = pd.read_csv(\"Instance1\\CarTravels.csv\", \";\")\n",
    "#load car travels\n",
    "car_travels = car_travels_df[\"CarTravelID\"].values.tolist()\n",
    "staff_car_df = pd.read_csv(\"Instance1\\StaffCar.csv\", \";\")\n",
    "#load available staff cars\n",
    "Q = staff_car_df[\"Number of staff cars\"].values.tolist()[0]\n",
    "#load depot node id\n",
    "depot_node_id = staff_car_df[\"Staff car depot nodeID\"].values.tolist()[0]\n",
    "#load departing car travels (from depot)\n",
    "car_travel_departures = car_travels_df.loc[car_travels_df[\"Departure nodeID\"]==depot_node_id][\"CarTravelID\"].values.tolist()\n",
    "#load arriving car travels (to depot)\n",
    "car_travel_arrivals = car_travels_df.loc[car_travels_df[\"Arrival nodeID\"]==depot_node_id][\"CarTravelID\"].values.tolist()\n"
   ]
  },
  {
   "cell_type": "code",
   "execution_count": null,
   "metadata": {},
   "outputs": [],
   "source": [
    "car_travel_departures = car_travels_df.where"
   ]
  },
  {
   "cell_type": "markdown",
   "metadata": {},
   "source": [
    "# Constructing Model"
   ]
  },
  {
   "cell_type": "code",
   "execution_count": 5,
   "metadata": {},
   "outputs": [
    {
     "data": {
      "text/plain": [
       "{}"
      ]
     },
     "execution_count": 5,
     "metadata": {},
     "output_type": "execute_result"
    }
   ],
   "source": [
    "#construct model\n",
    "m = gb.Model(\"DSPSC Model\")\n",
    "\n",
    "#create variables\n",
    "x_d = m.addVars(duties, vtype=gb.GRB.BINARY)\n",
    "y_t = m.addVars(bus_trips, vtype=gb.GRB.BINARY)\n",
    "z_i = m.addVars(car_travels, vtype=gb.GRB.BINARY)\n",
    "s_i_j = m.addVars(car_travel_departures, car_travel_arrivals, vtype=gb.GRB.BINARY)\n",
    "\n",
    "\n",
    "#set Objective\n",
    "obj = (gb.quicksum(duty_cost[duty] * x_d[duty] for duty in duties) \n",
    "       + beta*gb.quicksum(y_t[bus_trip] for bus_trip in bus_trips))\n",
    "\n",
    "m.setObjective(obj,gb.GRB.MINIMIZE)\n",
    "\n",
    "#set Constraints\n",
    "\n",
    "#(1)unsure how to match round trips of car_travels arrival and departure\n",
    "\n",
    "#(3)\n",
    "m.addConstrs(quicksum(A[bus_trip,duty]*x_d[duty] for duty in duties) + y_t[bus_trip] >= 1 for bus_trip in bus_trips)\n",
    "\n",
    "#(4)\n",
    "m.addConstrs(quicksum(G[car_travel,duty]*x_d[duty] for duty in duties)\n",
    "            <= z_i[car_travel]*M for car_travel in car_travels)\n",
    "\n",
    "#(5)\n",
    "m.addConstrs(quicksum(G[car_travel,duty]*x_d[duty] for duty in duties)\n",
    "            >= z_i[car_travel] for car_travel in car_travels)\n",
    "\n",
    "#(6)\n",
    "m.addConstrs(quicksum(H[car_travel_depart,car_travel_arriv] *s_i_j[car_travel_depart,car_travel_arriv] \n",
    "                      for car_travel_arriv in car_travel_arrivals) ==  z_i[car_travel_depart] \n",
    "                      for car_travel_depart in car_travel_departures)\n",
    "\n",
    "#(7)\n",
    "m.addConstrs(quicksum(H[car_travel_depart,car_travel_arriv] *s_i_j[car_travel_depart,car_travel_arriv] \n",
    "                      for car_travel_depart in car_travel_departures) ==  z_i[car_travel_depart] \n",
    "                      for car_travel_arriv in car_travel_arrivals)\n",
    "\n",
    "#(8)"
   ]
  },
  {
   "cell_type": "code",
   "execution_count": null,
   "metadata": {},
   "outputs": [],
   "source": [
    "def load_file (file_name):\n",
    "    with open(file_name, \"r\") as csv_file:\n",
    "        csv_reader = csv.reader(csv_file)\n",
    "        return csv_reader"
   ]
  }
 ],
 "metadata": {
  "kernelspec": {
   "display_name": "Python 3",
   "language": "python",
   "name": "python3"
  },
  "language_info": {
   "codemirror_mode": {
    "name": "ipython",
    "version": 3
   },
   "file_extension": ".py",
   "mimetype": "text/x-python",
   "name": "python",
   "nbconvert_exporter": "python",
   "pygments_lexer": "ipython3",
   "version": "3.6.5"
  }
 },
 "nbformat": 4,
 "nbformat_minor": 2
}
