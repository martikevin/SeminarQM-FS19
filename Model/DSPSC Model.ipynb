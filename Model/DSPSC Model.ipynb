{
 "cells": [
  {
   "cell_type": "code",
   "execution_count": 26,
   "metadata": {},
   "outputs": [],
   "source": [
    "import gurobipy as gb\n",
    "\n",
    "#Define sets:\n",
    "duties = []             #d element D\n",
    "bus_trips = []          #t element Tau\n",
    "car_travels = []        #i element C\n",
    "car_travels_depart = [] #i element Ć\n",
    "car_travels_arriv = []  #i element Ĉ\n",
    "\n",
    "#Parameters\n",
    "duty_cost = []      #c_d\n",
    "A = {}              # binary matrix A with a_t_d as index\n",
    "G = {}              # binary matrix G with g_i_d as index\n",
    "\n",
    "#construct model\n",
    "m = gb.Model(\"DSPSC Model\")\n",
    "\n",
    "#create variables\n",
    "x_d = m.addVars(duties, vtype=gb.GRB.BINARY)\n",
    "y_t = m.addVars(bus_trips, vtype=gb.GRB.BINARY)\n",
    "z_i = m.addVars(car_travels, vtype=gb.GRB.BINARY)\n",
    "s_i_j = m.addVars(car_travels_depart, car_travels_arriv, vtype=gb.GRB.BINARY)\n",
    "\n",
    "\n"
   ]
  }
 ],
 "metadata": {
  "kernelspec": {
   "display_name": "Python 3",
   "language": "python",
   "name": "python3"
  },
  "language_info": {
   "codemirror_mode": {
    "name": "ipython",
    "version": 3
   },
   "file_extension": ".py",
   "mimetype": "text/x-python",
   "name": "python",
   "nbconvert_exporter": "python",
   "pygments_lexer": "ipython3",
   "version": "3.6.5"
  }
 },
 "nbformat": 4,
 "nbformat_minor": 2
}
