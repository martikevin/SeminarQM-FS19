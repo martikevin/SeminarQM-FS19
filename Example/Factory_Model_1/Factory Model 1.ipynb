{
 "cells": [
  {
   "cell_type": "code",
   "execution_count": 1,
   "metadata": {},
   "outputs": [],
   "source": [
    "from gurobipy import *\n",
    "\n",
    "#Define the sets\n",
    "products = [\"Prod1\", \"Prod2\", \"Prod3\", \"Prod4\", \"Prod5\", \"Prod6\", \"Prod7\"] #P\n",
    "machines = [\"grinder\", \"vertDrill\", \"horiDrill\", \"borer\", \"planer\"] #M\n",
    "time_periods = [\"January\", \"February\", \"March\", \"April\", \"May\", \"June\"] #T\n",
    "\n",
    "\n",
    "#parameters\n",
    "#k_p\n",
    "profit_contribution = {\"Prod1\": 10, \"Prod2\": 6, \"Prod3\": 8, \"Prod4\": 4,\n",
    "                          \"Prod5\": 11, \"Prod6\":9, \"Prod7\":3 }\n",
    "# q_m\n",
    "qMachine = {\"grinder\":4, \"vertDrill\":2, \"horiDrill\":3, \"borer\":1, \"planer\":1}\n",
    "\n",
    "#f_p,m \n",
    "time_table = {\n",
    "    \"grinder\": {    \"Prod1\": 0.5, \"Prod2\": 0.7, \"Prod5\": 0.3,\n",
    "                    \"Prod6\": 0.2, \"Prod7\": 0.5 },\n",
    "    \"vertDrill\": {  \"Prod1\": 0.1, \"Prod2\": 0.2, \"Prod4\": 0.3,\n",
    "                    \"Prod6\": 0.6 },\n",
    "    \"horiDrill\": {  \"Prod1\": 0.2, \"Prod3\": 0.8, \"Prod7\": 0.6 },\n",
    "    \"borer\": {      \"Prod1\": 0.05,\"Prod2\": 0.03,\"Prod4\": 0.07,\n",
    "                    \"Prod5\": 0.1, \"Prod7\": 0.08 },\n",
    "    \"planer\": {     \"Prod3\": 0.01,\"Prod5\": 0.05,\"Prod7\": 0.05 }\n",
    "}\n",
    "\n",
    "# number of machines down\n",
    "down = {(\"January\",\"grinder\"): 1, (\"February\", \"horiDrill\"): 2, (\"March\", \"borer\"): 1,\n",
    "        (\"April\", \"vertDrill\"): 1, (\"May\", \"grinder\"): 1, (\"May\", \"vertDrill\"): 1,\n",
    "        (\"June\", \"planer\"): 1, (\"June\", \"horiDrill\"): 1}\n",
    "\n",
    "# market limitation of sells\n",
    "upper = {\n",
    "    (\"January\", \"Prod1\") : 500,\n",
    "    (\"January\", \"Prod2\") : 1000,\n",
    "    (\"January\", \"Prod3\") : 300,\n",
    "    (\"January\", \"Prod4\") : 300,\n",
    "    (\"January\", \"Prod5\") : 800,\n",
    "    (\"January\", \"Prod6\") : 200,\n",
    "    (\"January\", \"Prod7\") : 100,\n",
    "    (\"February\", \"Prod1\") : 600,\n",
    "    (\"February\", \"Prod2\") : 500,\n",
    "    (\"February\", \"Prod3\") : 200,\n",
    "    (\"February\", \"Prod4\") : 0,\n",
    "    (\"February\", \"Prod5\") : 400,\n",
    "    (\"February\", \"Prod6\") : 300,\n",
    "    (\"February\", \"Prod7\") : 150,\n",
    "    (\"March\", \"Prod1\") : 300,\n",
    "    (\"March\", \"Prod2\") : 600,\n",
    "    (\"March\", \"Prod3\") : 0,\n",
    "    (\"March\", \"Prod4\") : 0,\n",
    "    (\"March\", \"Prod5\") : 500,\n",
    "    (\"March\", \"Prod6\") : 400,\n",
    "    (\"March\", \"Prod7\") : 100,\n",
    "    (\"April\", \"Prod1\") : 200,\n",
    "    (\"April\", \"Prod2\") : 300,\n",
    "    (\"April\", \"Prod3\") : 400,\n",
    "    (\"April\", \"Prod4\") : 500,\n",
    "    (\"April\", \"Prod5\") : 200,\n",
    "    (\"April\", \"Prod6\") : 0,\n",
    "    (\"April\", \"Prod7\") : 100,\n",
    "    (\"May\", \"Prod1\") : 0,\n",
    "    (\"May\", \"Prod2\") : 100,\n",
    "    (\"May\", \"Prod3\") : 500,\n",
    "    (\"May\", \"Prod4\") : 100,\n",
    "    (\"May\", \"Prod5\") : 1000,\n",
    "    (\"May\", \"Prod6\") : 300,\n",
    "    (\"May\", \"Prod7\") : 0,\n",
    "    (\"June\", \"Prod1\") : 500,\n",
    "    (\"June\", \"Prod2\") : 500,\n",
    "    (\"June\", \"Prod3\") : 100,\n",
    "    (\"June\", \"Prod4\") : 300,\n",
    "    (\"June\", \"Prod5\") : 1100,\n",
    "    (\"June\", \"Prod6\") : 500,\n",
    "    (\"June\", \"Prod7\") : 60,\n",
    "}\n",
    "\n",
    "storeCost = 0.5\n",
    "storeCapacity = 100\n",
    "endStock = 50\n",
    "hoursPerMonth = 2*8*24\n"
   ]
  },
  {
   "cell_type": "code",
   "execution_count": 2,
   "metadata": {},
   "outputs": [
    {
     "name": "stdout",
     "output_type": "stream",
     "text": [
      "Academic license - for non-commercial use only\n"
     ]
    }
   ],
   "source": [
    "#Implementing the model\n",
    "\n",
    "m = Model(\"Factory Planing 1\")\n",
    "\n",
    "#Add variables\n",
    "b_t_p = m.addVars(time_periods, products, name=\"Manufactured\")\n",
    "u_t_p = m.addVars(time_periods, products,ub=upper, name= \"Sold\") #two lists and a tupple dictionary with corresponding values\n",
    "s_t_p = m.addVars(time_periods, products, ub=storeCapacity, name= \"Stored\")"
   ]
  },
  {
   "cell_type": "code",
   "execution_count": 3,
   "metadata": {},
   "outputs": [
    {
     "data": {
      "text/plain": [
       "{'Prod1': <gurobi.Constr *Awaiting Model Update*>,\n",
       " 'Prod2': <gurobi.Constr *Awaiting Model Update*>,\n",
       " 'Prod3': <gurobi.Constr *Awaiting Model Update*>,\n",
       " 'Prod4': <gurobi.Constr *Awaiting Model Update*>,\n",
       " 'Prod5': <gurobi.Constr *Awaiting Model Update*>,\n",
       " 'Prod6': <gurobi.Constr *Awaiting Model Update*>,\n",
       " 'Prod7': <gurobi.Constr *Awaiting Model Update*>}"
      ]
     },
     "execution_count": 3,
     "metadata": {},
     "output_type": "execute_result"
    }
   ],
   "source": [
    "\n",
    "m.addConstrs((b_t_p[time_periods[0],product] == u_t_p[time_periods[0], product] \n",
    "              + s_t_p[time_periods[0], product] for product in products), name=\"initial_balance\")"
   ]
  },
  {
   "cell_type": "code",
   "execution_count": 4,
   "metadata": {},
   "outputs": [
    {
     "data": {
      "text/plain": [
       "{('Prod1', 'February'): <gurobi.Constr *Awaiting Model Update*>,\n",
       " ('Prod1', 'March'): <gurobi.Constr *Awaiting Model Update*>,\n",
       " ('Prod1', 'April'): <gurobi.Constr *Awaiting Model Update*>,\n",
       " ('Prod1', 'May'): <gurobi.Constr *Awaiting Model Update*>,\n",
       " ('Prod1', 'June'): <gurobi.Constr *Awaiting Model Update*>,\n",
       " ('Prod2', 'February'): <gurobi.Constr *Awaiting Model Update*>,\n",
       " ('Prod2', 'March'): <gurobi.Constr *Awaiting Model Update*>,\n",
       " ('Prod2', 'April'): <gurobi.Constr *Awaiting Model Update*>,\n",
       " ('Prod2', 'May'): <gurobi.Constr *Awaiting Model Update*>,\n",
       " ('Prod2', 'June'): <gurobi.Constr *Awaiting Model Update*>,\n",
       " ('Prod3', 'February'): <gurobi.Constr *Awaiting Model Update*>,\n",
       " ('Prod3', 'March'): <gurobi.Constr *Awaiting Model Update*>,\n",
       " ('Prod3', 'April'): <gurobi.Constr *Awaiting Model Update*>,\n",
       " ('Prod3', 'May'): <gurobi.Constr *Awaiting Model Update*>,\n",
       " ('Prod3', 'June'): <gurobi.Constr *Awaiting Model Update*>,\n",
       " ('Prod4', 'February'): <gurobi.Constr *Awaiting Model Update*>,\n",
       " ('Prod4', 'March'): <gurobi.Constr *Awaiting Model Update*>,\n",
       " ('Prod4', 'April'): <gurobi.Constr *Awaiting Model Update*>,\n",
       " ('Prod4', 'May'): <gurobi.Constr *Awaiting Model Update*>,\n",
       " ('Prod4', 'June'): <gurobi.Constr *Awaiting Model Update*>,\n",
       " ('Prod5', 'February'): <gurobi.Constr *Awaiting Model Update*>,\n",
       " ('Prod5', 'March'): <gurobi.Constr *Awaiting Model Update*>,\n",
       " ('Prod5', 'April'): <gurobi.Constr *Awaiting Model Update*>,\n",
       " ('Prod5', 'May'): <gurobi.Constr *Awaiting Model Update*>,\n",
       " ('Prod5', 'June'): <gurobi.Constr *Awaiting Model Update*>,\n",
       " ('Prod6', 'February'): <gurobi.Constr *Awaiting Model Update*>,\n",
       " ('Prod6', 'March'): <gurobi.Constr *Awaiting Model Update*>,\n",
       " ('Prod6', 'April'): <gurobi.Constr *Awaiting Model Update*>,\n",
       " ('Prod6', 'May'): <gurobi.Constr *Awaiting Model Update*>,\n",
       " ('Prod6', 'June'): <gurobi.Constr *Awaiting Model Update*>,\n",
       " ('Prod7', 'February'): <gurobi.Constr *Awaiting Model Update*>,\n",
       " ('Prod7', 'March'): <gurobi.Constr *Awaiting Model Update*>,\n",
       " ('Prod7', 'April'): <gurobi.Constr *Awaiting Model Update*>,\n",
       " ('Prod7', 'May'): <gurobi.Constr *Awaiting Model Update*>,\n",
       " ('Prod7', 'June'): <gurobi.Constr *Awaiting Model Update*>}"
      ]
     },
     "execution_count": 4,
     "metadata": {},
     "output_type": "execute_result"
    }
   ],
   "source": [
    "m.addConstrs((s_t_p[time_periods[time_periods.index(time_period) -1], product]\n",
    "             + b_t_p[time_period, product] == u_t_p[time_period, product]\n",
    "             + s_t_p[time_period,product] for product in products for time_period in time_periods\n",
    "             if time_period != time_periods[0]), name=\"Balance\")"
   ]
  },
  {
   "cell_type": "code",
   "execution_count": 5,
   "metadata": {},
   "outputs": [
    {
     "data": {
      "text/plain": [
       "{'Prod1': <gurobi.Constr *Awaiting Model Update*>,\n",
       " 'Prod2': <gurobi.Constr *Awaiting Model Update*>,\n",
       " 'Prod3': <gurobi.Constr *Awaiting Model Update*>,\n",
       " 'Prod4': <gurobi.Constr *Awaiting Model Update*>,\n",
       " 'Prod5': <gurobi.Constr *Awaiting Model Update*>,\n",
       " 'Prod6': <gurobi.Constr *Awaiting Model Update*>,\n",
       " 'Prod7': <gurobi.Constr *Awaiting Model Update*>}"
      ]
     },
     "execution_count": 5,
     "metadata": {},
     "output_type": "execute_result"
    }
   ],
   "source": [
    "m.addConstrs((s_t_p[time_periods[-1],product] == endStock for product in products), name=\"End_balance\")"
   ]
  },
  {
   "cell_type": "code",
   "execution_count": 6,
   "metadata": {},
   "outputs": [
    {
     "data": {
      "text/plain": [
       "{('grinder', 'February'): <gurobi.Constr *Awaiting Model Update*>,\n",
       " ('grinder', 'March'): <gurobi.Constr *Awaiting Model Update*>,\n",
       " ('grinder', 'April'): <gurobi.Constr *Awaiting Model Update*>,\n",
       " ('grinder', 'June'): <gurobi.Constr *Awaiting Model Update*>,\n",
       " ('vertDrill', 'January'): <gurobi.Constr *Awaiting Model Update*>,\n",
       " ('vertDrill', 'February'): <gurobi.Constr *Awaiting Model Update*>,\n",
       " ('vertDrill', 'March'): <gurobi.Constr *Awaiting Model Update*>,\n",
       " ('vertDrill', 'June'): <gurobi.Constr *Awaiting Model Update*>,\n",
       " ('horiDrill', 'January'): <gurobi.Constr *Awaiting Model Update*>,\n",
       " ('horiDrill', 'March'): <gurobi.Constr *Awaiting Model Update*>,\n",
       " ('horiDrill', 'April'): <gurobi.Constr *Awaiting Model Update*>,\n",
       " ('horiDrill', 'May'): <gurobi.Constr *Awaiting Model Update*>,\n",
       " ('borer', 'January'): <gurobi.Constr *Awaiting Model Update*>,\n",
       " ('borer', 'February'): <gurobi.Constr *Awaiting Model Update*>,\n",
       " ('borer', 'April'): <gurobi.Constr *Awaiting Model Update*>,\n",
       " ('borer', 'May'): <gurobi.Constr *Awaiting Model Update*>,\n",
       " ('borer', 'June'): <gurobi.Constr *Awaiting Model Update*>,\n",
       " ('planer', 'January'): <gurobi.Constr *Awaiting Model Update*>,\n",
       " ('planer', 'February'): <gurobi.Constr *Awaiting Model Update*>,\n",
       " ('planer', 'March'): <gurobi.Constr *Awaiting Model Update*>,\n",
       " ('planer', 'April'): <gurobi.Constr *Awaiting Model Update*>,\n",
       " ('planer', 'May'): <gurobi.Constr *Awaiting Model Update*>}"
      ]
     },
     "execution_count": 6,
     "metadata": {},
     "output_type": "execute_result"
    }
   ],
   "source": [
    "# Capacity\n",
    "m.addConstrs((quicksum(time_table[machine][product] * b_t_p[time_period, product] \n",
    "\tfor product in time_table[machine]) <= hoursPerMonth * (qMachine[machine] - \n",
    "\tdown[time_period, machine]) for machine in machines for time_period in time_periods \n",
    "\tif (time_period, machine) in down), name = \"Capacity\")\n",
    "\n",
    "m.addConstrs((quicksum(time_table[machine][product] * b_t_p[time_period, product] \n",
    "\tfor product in time_table[machine]) <= hoursPerMonth * qMachine[machine] \n",
    "    for machine in machines for time_period in time_periods \n",
    "    if (time_period, machine) not in down), name = \"Capacity\")"
   ]
  },
  {
   "cell_type": "code",
   "execution_count": 10,
   "metadata": {},
   "outputs": [],
   "source": [
    "obj = quicksum(profit_contribution[product] * u_t_p [time_period, product] - storeCost*s_t_p[time_period, product]\n",
    "              for time_period in time_periods for product in products)\n",
    "m.setObjective(obj, GRB.MAXIMIZE)"
   ]
  },
  {
   "cell_type": "code",
   "execution_count": 12,
   "metadata": {},
   "outputs": [
    {
     "name": "stdout",
     "output_type": "stream",
     "text": [
      "Optimize a model with 79 rows, 126 columns and 288 nonzeros\n",
      "Coefficient statistics:\n",
      "  Matrix range     [1e-02, 1e+00]\n",
      "  Objective range  [5e-01, 1e+01]\n",
      "  Bounds range     [6e+01, 1e+03]\n",
      "  RHS range        [5e+01, 2e+03]\n",
      "Presolve removed 74 rows and 110 columns\n",
      "Presolve time: 0.01s\n",
      "Presolved: 5 rows, 16 columns, 21 nonzeros\n",
      "\n",
      "Iteration    Objective       Primal Inf.    Dual Inf.      Time\n",
      "       0    1.2466500e+05   3.640000e+02   0.000000e+00      0s\n",
      "       2    9.3715179e+04   0.000000e+00   0.000000e+00      0s\n",
      "\n",
      "Solved in 2 iterations and 0.02 seconds\n",
      "Optimal objective  9.371517857e+04\n",
      "Manufactured[January,Prod1] 500.000000\n",
      "Manufactured[January,Prod2] 888.571429\n",
      "Manufactured[January,Prod3] 382.500000\n",
      "Manufactured[January,Prod4] 300.000000\n",
      "Manufactured[January,Prod5] 800.000000\n",
      "Manufactured[January,Prod6] 200.000000\n",
      "Manufactured[February,Prod1] 700.000000\n",
      "Manufactured[February,Prod2] 600.000000\n",
      "Manufactured[February,Prod3] 117.500000\n",
      "Manufactured[February,Prod5] 500.000000\n",
      "Manufactured[February,Prod6] 300.000000\n",
      "Manufactured[February,Prod7] 250.000000\n",
      "Manufactured[March,Prod6] 400.000000\n",
      "Manufactured[April,Prod1] 200.000000\n",
      "Manufactured[April,Prod2] 300.000000\n",
      "Manufactured[April,Prod3] 400.000000\n",
      "Manufactured[April,Prod4] 500.000000\n",
      "Manufactured[April,Prod5] 200.000000\n",
      "Manufactured[April,Prod7] 100.000000\n",
      "Manufactured[May,Prod2] 100.000000\n",
      "Manufactured[May,Prod3] 600.000000\n",
      "Manufactured[May,Prod4] 100.000000\n",
      "Manufactured[May,Prod5] 1100.000000\n",
      "Manufactured[May,Prod6] 300.000000\n",
      "Manufactured[May,Prod7] 100.000000\n",
      "Manufactured[June,Prod1] 550.000000\n",
      "Manufactured[June,Prod2] 550.000000\n",
      "Manufactured[June,Prod4] 350.000000\n",
      "Manufactured[June,Prod6] 550.000000\n",
      "Sold[January,Prod1] 500.000000\n",
      "Sold[January,Prod2] 888.571429\n",
      "Sold[January,Prod3] 300.000000\n",
      "Sold[January,Prod4] 300.000000\n",
      "Sold[January,Prod5] 800.000000\n",
      "Sold[January,Prod6] 200.000000\n",
      "Sold[February,Prod1] 600.000000\n",
      "Sold[February,Prod2] 500.000000\n",
      "Sold[February,Prod3] 200.000000\n",
      "Sold[February,Prod5] 400.000000\n",
      "Sold[February,Prod6] 300.000000\n",
      "Sold[February,Prod7] 150.000000\n",
      "Sold[March,Prod1] 100.000000\n",
      "Sold[March,Prod2] 100.000000\n",
      "Sold[March,Prod5] 100.000000\n",
      "Sold[March,Prod6] 400.000000\n",
      "Sold[March,Prod7] 100.000000\n",
      "Sold[April,Prod1] 200.000000\n",
      "Sold[April,Prod2] 300.000000\n",
      "Sold[April,Prod3] 400.000000\n",
      "Sold[April,Prod4] 500.000000\n",
      "Sold[April,Prod5] 200.000000\n",
      "Sold[April,Prod7] 100.000000\n",
      "Sold[May,Prod2] 100.000000\n",
      "Sold[May,Prod3] 500.000000\n",
      "Sold[May,Prod4] 100.000000\n",
      "Sold[May,Prod5] 1000.000000\n",
      "Sold[May,Prod6] 300.000000\n",
      "Sold[June,Prod1] 500.000000\n",
      "Sold[June,Prod2] 500.000000\n",
      "Sold[June,Prod3] 50.000000\n",
      "Sold[June,Prod4] 300.000000\n",
      "Sold[June,Prod5] 50.000000\n",
      "Sold[June,Prod6] 500.000000\n",
      "Sold[June,Prod7] 50.000000\n",
      "Stored[January,Prod3] 82.500000\n",
      "Stored[February,Prod1] 100.000000\n",
      "Stored[February,Prod2] 100.000000\n",
      "Stored[February,Prod5] 100.000000\n",
      "Stored[February,Prod7] 100.000000\n",
      "Stored[May,Prod3] 100.000000\n",
      "Stored[May,Prod5] 100.000000\n",
      "Stored[May,Prod7] 100.000000\n",
      "Stored[June,Prod1] 50.000000\n",
      "Stored[June,Prod2] 50.000000\n",
      "Stored[June,Prod3] 50.000000\n",
      "Stored[June,Prod4] 50.000000\n",
      "Stored[June,Prod5] 50.000000\n",
      "Stored[June,Prod6] 50.000000\n",
      "Stored[June,Prod7] 50.000000\n"
     ]
    }
   ],
   "source": [
    "m.optimize()\n",
    "for v in m.getVars():\n",
    "    if v.X != 0:\n",
    "        print(\"%s %f\" % (v.Varname, v.X))"
   ]
  },
  {
   "cell_type": "code",
   "execution_count": 15,
   "metadata": {},
   "outputs": [],
   "source": [
    "m.write(\"factory-planning-i-output.sol\")"
   ]
  }
 ],
 "metadata": {
  "kernelspec": {
   "display_name": "Python 3",
   "language": "python",
   "name": "python3"
  },
  "language_info": {
   "codemirror_mode": {
    "name": "ipython",
    "version": 3
   },
   "file_extension": ".py",
   "mimetype": "text/x-python",
   "name": "python",
   "nbconvert_exporter": "python",
   "pygments_lexer": "ipython3",
   "version": "3.6.5"
  }
 },
 "nbformat": 4,
 "nbformat_minor": 2
}
